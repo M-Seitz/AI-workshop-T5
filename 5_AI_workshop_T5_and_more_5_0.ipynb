{
 "cells": [
  {
   "cell_type": "markdown",
   "id": "eba4b0a5-21e9-4401-85cd-60679d4cb237",
   "metadata": {},
   "source": [
    "\n",
    "Hugging Face\n",
    "https://huggingface.co/google/flan-t5-xxl\n"
   ]
  },
  {
   "cell_type": "code",
   "execution_count": null,
   "id": "b616e665-edba-4bb5-b859-d559ad60d7a1",
   "metadata": {},
   "outputs": [],
   "source": [
    "import torch\n",
    "from transformers import AutoModelForSeq2SeqLM, AutoTokenizer, GenerationConfig\n",
    "\n",
    "model_name         = \"google/flan-t5-xxl\"\n",
    "flan_t5_model      = AutoModelForSeq2SeqLM.from_pretrained(model_name)\n",
    "flan_t5_tokenizer  = AutoTokenizer.from_pretrained(model_name)"
   ]
  },
  {
   "cell_type": "markdown",
   "id": "87926328-0b01-4a7a-8dd1-706138023699",
   "metadata": {},
   "source": [
    "\n",
    "Batch zero shot\n"
   ]
  },
  {
   "cell_type": "code",
   "execution_count": null,
   "id": "717978da-bfdb-4130-accd-1ad683575389",
   "metadata": {},
   "outputs": [],
   "source": [
    "generation_config  = GenerationConfig(\n",
    "    max_new_tokens = 2000,\n",
    "    max_lenght     = 200,  #\n",
    "    do_sample      = True,\n",
    "    temperature    = 0.3\n",
    "    )"
   ]
  },
  {
   "cell_type": "code",
   "execution_count": null,
   "id": "3385a380-ca74-4f03-b752-5aa0871c41ab",
   "metadata": {},
   "outputs": [],
   "source": [
    "task_prefix = '''\n",
    "Write a motivation letter.\n",
    "Answer each of these items with  two phrases. \n",
    "keep the  text between 100 and 200 words.\n",
    "What skills are expected. \n",
    "What experience they want to see \n",
    "Research the Values of the Company. \n",
    "A little information about the type of personality they’re looking for.\n",
    "'''\n"
   ]
  },
  {
   "cell_type": "code",
   "execution_count": null,
   "id": "f6b465e2-4a55-4407-a826-9846784e2d27",
   "metadata": {},
   "outputs": [],
   "source": [
    "job_opening       = '''\n",
    "About the job\n",
    "As a Philanthropic Fundraising Manager at Becode, \n",
    "For this engaging job, you'll need to:\n",
    "Have at least 5 years of professional experience in fundraising, preferably within the Belgian philanthropic ecosystem.\n",
    "Have a proven track record of achieving fundraising targets and driving growth\n",
    "Have excellent writing skills in English and French, with proficiency in Dutch being an added advantage.\n",
    "Have good relationship-building skills and a strong sense of business priorities\n",
    "Be comfortable with digital tools and platforms, with a talent for leveraging technology in fundraising.\n",
    "Be organized, structured and assertive willing to strive to work as efficiently and effectively as possible\n",
    "Be an excellent team player\n",
    "As a member of BeCode you will be expected to contribute to our \n",
    "continuous desire to improve ourselves and embrace BeCode values of social inclusion \n",
    "and fair treatment across gender, races, religions and all the differences that make us all humans.\n",
    "'''"
   ]
  },
  {
   "cell_type": "code",
   "execution_count": null,
   "id": "3fe524ae-9efc-45a9-ba2d-2ec7b3f04241",
   "metadata": {},
   "outputs": [],
   "source": [
    "inputs      = flan_t5_tokenizer(text = [task_prefix + job_opening], return_tensors = \"pt\", padding = True)\n",
    "output_seq  = flan_t5_model.generate(input_ids = inputs.input_ids, attention_mask = inputs.attention_mask)\n",
    "output      = flan_t5_tokenizer.batch_decode(sequences = output_seq, skip_special_tokens = True)\n",
    "print()\n",
    "print(output)"
   ]
  },
  {
   "cell_type": "markdown",
   "id": "a7ed3b8e-7711-4fb9-bb9c-96ba7afcdc23",
   "metadata": {},
   "source": [
    "\n",
    "https://huggingface.co/google/flan-t5-xxl#model-card-for-flan-t5-xxl\n"
   ]
  }
 ],
 "metadata": {
  "kernelspec": {
   "display_name": "Python 3 (ipykernel)",
   "language": "python",
   "name": "python3"
  },
  "language_info": {
   "codemirror_mode": {
    "name": "ipython",
    "version": 3
   },
   "file_extension": ".py",
   "mimetype": "text/x-python",
   "name": "python",
   "nbconvert_exporter": "python",
   "pygments_lexer": "ipython3",
   "version": "3.11.6"
  },
  "widgets": {
   "application/vnd.jupyter.widget-state+json": {
    "state": {},
    "version_major": 2,
    "version_minor": 0
   }
  }
 },
 "nbformat": 4,
 "nbformat_minor": 5
}
