{
 "cells": [
  {
   "attachments": {},
   "cell_type": "markdown",
   "id": "e7dca812-707a-4c04-8f39-43c62947ba7a",
   "metadata": {},
   "source": [
    "￼\n",
    "Hugging Face\n",
    "https://huggingface.co/google/t5-base\n"
   ]
  },
  {
   "cell_type": "markdown",
   "id": "87926328-0b01-4a7a-8dd1-706138023699",
   "metadata": {},
   "source": [
    "\n",
    "Here is a simple llm (Text-To-Text Transfer Transformer):\n"
   ]
  },
  {
   "cell_type": "code",
   "execution_count": null,
   "id": "003d700a-e45e-42a6-9505-b05be3a95ed4",
   "metadata": {},
   "outputs": [],
   "source": [
    "import torch\n",
    "from transformers import T5Tokenizer, T5ForConditionalGeneration\n",
    "\n",
    "model_name         = \"t5-base\"\n",
    "tokenizer = T5Tokenizer.from_pretrained(model_name)\n",
    "model = T5ForConditionalGeneration.from_pretrained(model_name)\n",
    "\n",
    "input_text = \"should I eat more or less sugar?\"\n",
    "input_ids = tokenizer(input_text, return_tensors=\"pt\").input_ids  \n",
    "\n",
    "# Generate response\n",
    "generated_ids = model.generate(input_ids)\n",
    "decoded_response = tokenizer.decode(generated_ids[0], skip_special_tokens=True)\n",
    "print()\n",
    "print(decoded_response)"
   ]
  },
  {
   "cell_type": "markdown",
   "id": "2c71e0d0-5684-49c2-833a-4f6f0a02a515",
   "metadata": {},
   "source": [
    "\n",
    "Batch of sentences\n"
   ]
  },
  {
   "cell_type": "code",
   "execution_count": null,
   "id": "b71daa54-b957-4b4e-9183-c2d64bfbf127",
   "metadata": {},
   "outputs": [],
   "source": [
    "input_text = \"who is the president of the us of america?\"\n",
    "input_ids = tokenizer(input_text, return_tensors=\"pt\").input_ids  # Batch size 1\n",
    "\n",
    "# Generate response\n",
    "generated_ids = model.generate(input_ids)\n",
    "decoded_response = tokenizer.decode(generated_ids[0], skip_special_tokens=True)\n",
    "print()\n",
    "print(decoded_response)"
   ]
  },
  {
   "cell_type": "markdown",
   "id": "a7ed3b8e-7711-4fb9-bb9c-96ba7afcdc23",
   "metadata": {},
   "source": [
    "\n",
    "https://blog.research.google/2020/02/exploring-transfer-learning-with-t5.html\n"
   ]
  },
  {
   "cell_type": "code",
   "execution_count": null,
   "id": "1244d50b-e047-4a9c-9d12-77a9e98cd236",
   "metadata": {},
   "outputs": [],
   "source": []
  }
 ],
 "metadata": {
  "kernelspec": {
   "display_name": "Python 3 (ipykernel)",
   "language": "python",
   "name": "python3"
  },
  "language_info": {
   "codemirror_mode": {
    "name": "ipython",
    "version": 3
   },
   "file_extension": ".py",
   "mimetype": "text/x-python",
   "name": "python",
   "nbconvert_exporter": "python",
   "pygments_lexer": "ipython3",
   "version": "3.11.6"
  },
  "widgets": {
   "application/vnd.jupyter.widget-state+json": {
    "state": {},
    "version_major": 2,
    "version_minor": 0
   }
  }
 },
 "nbformat": 4,
 "nbformat_minor": 5
}
