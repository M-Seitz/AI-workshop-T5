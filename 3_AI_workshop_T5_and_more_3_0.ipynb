{
 "cells": [
  {
   "cell_type": "markdown",
   "id": "eba4b0a5-21e9-4401-85cd-60679d4cb237",
   "metadata": {},
   "source": [
    "\n",
    " Hugging Face \n",
    " https://huggingface.co/google/flan-t5-base\n",
    " Fine-tuned LAnguage Net\n",
    " "
   ]
  },
  {
   "cell_type": "code",
   "execution_count": null,
   "id": "b616e665-edba-4bb5-b859-d559ad60d7a1",
   "metadata": {},
   "outputs": [],
   "source": [
    "from transformers import AutoModelForSeq2SeqLM, AutoTokenizer, GenerationConfig\n",
    "\n",
    "model_name         = \"google/flan-t5-base\"\n",
    "flan_t5_model      = AutoModelForSeq2SeqLM.from_pretrained(model_name)\n",
    "flan_t5_tokenizer  = AutoTokenizer.from_pretrained(model_name)"
   ]
  },
  {
   "cell_type": "code",
   "execution_count": null,
   "id": "c7565e24-36d7-425c-b4ef-a7edf1d6f867",
   "metadata": {},
   "outputs": [],
   "source": [
    "generation_config  = GenerationConfig(\n",
    "    max_new_tokens = 20, #\n",
    "    do_sample      = True,\n",
    "    temperature    = 0.5\n",
    "    )"
   ]
  },
  {
   "cell_type": "markdown",
   "id": "87926328-0b01-4a7a-8dd1-706138023699",
   "metadata": {},
   "source": [
    "\n",
    "Zero shot\n"
   ]
  },
  {
   "cell_type": "code",
   "execution_count": null,
   "id": "03dadf86-61ec-4af6-a7ae-b28578bcb775",
   "metadata": {},
   "outputs": [],
   "source": [
    "task_prefix = \"Extract the product name from the text\"\n",
    "sentence    = \"I absolutely love the new smartphone I purchased! The camera quality is outstanding and the battery life is impressive \"\n",
    "#\n",
    "inputs      = flan_t5_tokenizer(text = task_prefix + sentence, return_tensors = \"pt\")#, padding = True)\n",
    "output_seq  = flan_t5_model.generate(inputs[\"input_ids\"],   generation_config = generation_config)\n",
    "output      = flan_t5_tokenizer.decode(output_seq[0],     skip_special_tokens = True)\n",
    "print()\n",
    "print(output)"
   ]
  },
  {
   "cell_type": "markdown",
   "id": "2c71e0d0-5684-49c2-833a-4f6f0a02a515",
   "metadata": {},
   "source": [
    "\n",
    "Batch of sentences\n"
   ]
  },
  {
   "cell_type": "code",
   "execution_count": null,
   "id": "717978da-bfdb-4130-accd-1ad683575389",
   "metadata": {},
   "outputs": [],
   "source": [
    "generation_config  = GenerationConfig(\n",
    "    max_new_tokens = 30, #\n",
    "    do_sample      = True,\n",
    "    temperature    = 0.7\n",
    "    )"
   ]
  },
  {
   "cell_type": "code",
   "execution_count": null,
   "id": "3fe524ae-9efc-45a9-ba2d-2ec7b3f04241",
   "metadata": {},
   "outputs": [],
   "source": [
    "#batch zero shot\n",
    "task_prefix = \"You are a candidate for an IT job. Answer each of these  job interview questions with a minimim of two phrases. \"\n",
    "sentences   = [\n",
    "    \"Where do you come from?\", \n",
    "    \"Who are you? Tell me more about yourself!\", \n",
    "    \"What are some of your strengths and weaknesses?\", \n",
    "    \"What made you leave your last job?\", \n",
    "    \"What qualities do you believe a competent Data Scientist should possess?\"\n",
    "    \"In five years, where do you see yourself?\", \n",
    "    \"Say something in French!\", \n",
    "]\n",
    "inputs      = flan_t5_tokenizer(text = [task_prefix + sentence for sentence in sentences], return_tensors = \"pt\", padding = True)\n",
    "output_seq  = flan_t5_model.generate(input_ids = inputs.input_ids, attention_mask = inputs.attention_mask)\n",
    "output      = flan_t5_tokenizer.batch_decode(sequences = output_seq, skip_special_tokens = True)\n",
    "print()\n",
    "print(output)"
   ]
  },
  {
   "cell_type": "markdown",
   "id": "a7ed3b8e-7711-4fb9-bb9c-96ba7afcdc23",
   "metadata": {},
   "source": [
    "\n",
    "https://huggingface.co/google/flan-t5-xxl#model-card-for-flan-t5-xxl\n"
   ]
  }
 ],
 "metadata": {
  "kernelspec": {
   "display_name": "Python 3 (ipykernel)",
   "language": "python",
   "name": "python3"
  },
  "language_info": {
   "codemirror_mode": {
    "name": "ipython",
    "version": 3
   },
   "file_extension": ".py",
   "mimetype": "text/x-python",
   "name": "python",
   "nbconvert_exporter": "python",
   "pygments_lexer": "ipython3",
   "version": "3.11.6"
  },
  "widgets": {
   "application/vnd.jupyter.widget-state+json": {
    "state": {},
    "version_major": 2,
    "version_minor": 0
   }
  }
 },
 "nbformat": 4,
 "nbformat_minor": 5
}
